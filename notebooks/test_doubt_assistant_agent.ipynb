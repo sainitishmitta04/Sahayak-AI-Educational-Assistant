{
 "cells": [
  {
   "cell_type": "code",
   "execution_count": 1,
   "id": "1cdbc957",
   "metadata": {},
   "outputs": [],
   "source": [
    "import sys, os\n",
    "sys.path.append(os.path.abspath(\"..\"))"
   ]
  },
  {
   "cell_type": "code",
   "execution_count": 2,
   "id": "085ba09f",
   "metadata": {},
   "outputs": [
    {
     "name": "stdout",
     "output_type": "stream",
     "text": [
      "🔍 Question: Why is the Sky Blue?\n",
      "\n",
      "🧠 Answer:\n",
      " Okay, I will answer the question in Telugu, keeping the guidelines in mind.\n",
      "\n",
      "**Answer:** ఆకాశం నీలంగా ఎందుకు ఉంటుందో తెలుసా? సూర్యుడి నుండి వచ్చే కాంతి నిజానికి అన్ని రంగుల మిశ్రమం. అయితే, ఈ కాంతి భూమి యొక్క వాతావరణంలోకి ప్రవేశించినప్పుడు, గాలిలోని చిన్న చిన్న ధూళి కణాలు మరియు వాయు అణువులు కాంతిని అన్ని దిశల్లోకి వెదజల్లుతాయి. నీలం రంగు కాంతి తరంగధైర్ఘ్యం (wavelength) తక్కువగా ఉండటం వల్ల అది మిగిలిన రంగుల కంటే ఎక్కువగా వెదజల్లబడుతుంది. అందుకే మనకు ఆకాశం నీలంగా కనిపిస్తుంది.\n",
      "\n",
      "**Example:** ఊహించుకోండి మీ దగ్గర చాలా రంగుల గులాబీలు ఉన్నాయి. అందులో నీలం రంగు గులాబీలు చిన్నవిగా ఉన్నాయి అనుకోండి. మీరు వాటిని గాలిలో ఎగరవేస్తే, చిన్న గులాబీలు (నీలం రంగు కాంతిలా) ఎక్కువగా దూరంగా వెళ్తాయి. అందుకే మీరు చూసినప్పుడు నీలం రంగు గులాబీలే ఎక్కువగా కనిపిస్తాయి. అలాగే ఆకాశంలో కూడా నీలం రంగు కాంతి ఎక్కువ దూరం వెదజల్లడం వల్ల మనకు నీలంగా కనిపిస్తుంది. పండగలప్పుడు రంగులు చల్లుకుంటాం కదా, అందులో ఏ రంగు ఎక్కువ దూరం పోతుందో గమనించండి.\n",
      "\n",
      "**Fun Fact:** సూర్యోదయం మరియు సూర్యాస్తమయం సమయంలో ఆకాశం ఎరుపు లేదా నారింజ రంగులో ఎందుకు ఉంటుందో తెలుసా? ఆ సమయంలో సూర్యకాంతి ఎక్కువ దూరం ప్రయాణించవలసి ఉంటుంది. నీలం రంగు కాంతి చాలా వరకు వెదజల్లబడుతుంది, కాబట్టి ఎరుపు మరియు నారింజ రంగులు మన కళ్ళకు చేరుతాయి. మీ ఇంటి దగ్గర సూర్యోదయం, సూర్యాస్తమయం అయ్యేటప్పుడు ఆకాశం రంగులు ఎలా మారుతున్నాయో గమనించండి!\n",
      "\n",
      "📊 Metadata: {'Language': 'telugu', 'Grade': 8, 'Timestamp': '2025-07-21T21:52:40.544606'}\n"
     ]
    }
   ],
   "source": [
    "# 1. Setup\n",
    "from utils.setup_env import configure_environment\n",
    "configure_environment()\n",
    "from agents.doubt_assistant_agent import DoubtAssistantAgent\n",
    "\n",
    "# 2. Create agent\n",
    "agent = DoubtAssistantAgent()\n",
    "\n",
    "# 3. Ask a question\n",
    "question = \"Why is the Sky Blue?\"\n",
    "language = \"Telugu\"\n",
    "grade = 8\n",
    "context = \"rural\"\n",
    "\n",
    "output = agent.answer_question(question, language=language, grade_level=grade, context=context)\n",
    "\n",
    "# 4. Display\n",
    "print(\"🔍 Question:\", output[\"question\"])\n",
    "print(\"\\n🧠 Answer:\\n\", output[\"answer\"])\n",
    "print(\"\\n📊 Metadata:\", {\n",
    "    \"Language\": output[\"language\"],\n",
    "    \"Grade\": output[\"grade_level\"],\n",
    "    \"Timestamp\": output[\"timestamp\"]\n",
    "})\n"
   ]
  },
  {
   "cell_type": "code",
   "execution_count": null,
   "id": "8dc45c68",
   "metadata": {},
   "outputs": [],
   "source": []
  }
 ],
 "metadata": {
  "kernelspec": {
   "display_name": "sahayak",
   "language": "python",
   "name": "python3"
  },
  "language_info": {
   "codemirror_mode": {
    "name": "ipython",
    "version": 3
   },
   "file_extension": ".py",
   "mimetype": "text/x-python",
   "name": "python",
   "nbconvert_exporter": "python",
   "pygments_lexer": "ipython3",
   "version": "3.11.9"
  }
 },
 "nbformat": 4,
 "nbformat_minor": 5
}
