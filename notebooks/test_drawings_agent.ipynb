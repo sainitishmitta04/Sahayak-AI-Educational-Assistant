{
 "cells": [
  {
   "cell_type": "code",
   "execution_count": 1,
   "id": "a5e6fa76",
   "metadata": {},
   "outputs": [],
   "source": [
    "import sys, os\n",
    "sys.path.append(os.path.abspath(\"..\"))\n",
    "\n",
    "from utils.setup_env import configure_environment\n",
    "configure_environment()"
   ]
  },
  {
   "cell_type": "code",
   "execution_count": 2,
   "id": "1a38440c",
   "metadata": {},
   "outputs": [
    {
     "name": "stdout",
     "output_type": "stream",
     "text": [
      "✅ Instructions saved at: c:\\Users\\SaiNitish_Mitta\\Downloads\\sahayak\\data\\drawings\\instructions_water_cycle.txt\n"
     ]
    }
   ],
   "source": [
    "from agents.drawings_agent import DrawingsAgent\n",
    "\n",
    "agent = DrawingsAgent()\n",
    "\n",
    "# Generate Diagram Instructions\n",
    "diagram_output = agent.generate_diagram_instructions(\"Water Cycle\")\n",
    "print(\"✅ Instructions saved at:\", diagram_output['saved_path'])\n"
   ]
  },
  {
   "cell_type": "code",
   "execution_count": 3,
   "id": "5c2bce41",
   "metadata": {},
   "outputs": [
    {
     "name": "stdout",
     "output_type": "stream",
     "text": [
      "🧩 Visual Aid Plan saved at: c:\\Users\\SaiNitish_Mitta\\Downloads\\sahayak\\data\\drawings\\visual_plan_water_cycle.txt\n"
     ]
    }
   ],
   "source": [
    "\n",
    "# Generate Visual Aid Plan\n",
    "visual_plan_output = agent.create_visual_aid_plan(\"Water Cycle\", grade_levels=[4, 5])\n",
    "print(\"🧩 Visual Aid Plan saved at:\", visual_plan_output['saved_path'])\n"
   ]
  },
  {
   "cell_type": "code",
   "execution_count": null,
   "id": "1a23f68b",
   "metadata": {},
   "outputs": [],
   "source": []
  }
 ],
 "metadata": {
  "kernelspec": {
   "display_name": "sahayak",
   "language": "python",
   "name": "python3"
  },
  "language_info": {
   "codemirror_mode": {
    "name": "ipython",
    "version": 3
   },
   "file_extension": ".py",
   "mimetype": "text/x-python",
   "name": "python",
   "nbconvert_exporter": "python",
   "pygments_lexer": "ipython3",
   "version": "3.11.9"
  }
 },
 "nbformat": 4,
 "nbformat_minor": 5
}
