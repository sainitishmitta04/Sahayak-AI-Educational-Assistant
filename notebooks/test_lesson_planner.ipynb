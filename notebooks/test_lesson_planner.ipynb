{
 "cells": [
  {
   "cell_type": "code",
   "execution_count": 3,
   "id": "dbd5fb59",
   "metadata": {},
   "outputs": [],
   "source": [
    "import sys, os\n",
    "sys.path.append(os.path.abspath(\"..\"))\n",
    "\n",
    "from utils.setup_env import configure_environment\n",
    "configure_environment()"
   ]
  },
  {
   "cell_type": "code",
   "execution_count": 4,
   "id": "db69ede1",
   "metadata": {},
   "outputs": [],
   "source": [
    "from agents.lesson_planner_agent import LessonPlannerAgent\n",
    "\n",
    "agent = LessonPlannerAgent()\n"
   ]
  },
  {
   "cell_type": "code",
   "execution_count": 5,
   "id": "f2926c6d",
   "metadata": {},
   "outputs": [
    {
     "name": "stdout",
     "output_type": "stream",
     "text": [
      "✅ Weekly Plan Saved at: c:\\Users\\SaiNitish_Mitta\\Downloads\\sahayak\\data\\lesson_plans\\weekly_plan_math_physics_biology.txt\n"
     ]
    }
   ],
   "source": [
    "# Weekly Plan\n",
    "weekly_output = agent.generate_weekly_plan(\n",
    "    subjects=[\"Math\", \"Physics\", \"Biology\"],\n",
    "    grade_levels=[9,10],\n",
    "    total_hours=30,\n",
    "    language=\"english\"\n",
    ")\n",
    "print(\"✅ Weekly Plan Saved at:\", weekly_output['saved_path'])\n"
   ]
  },
  {
   "cell_type": "code",
   "execution_count": 6,
   "id": "e8fe9abc",
   "metadata": {},
   "outputs": [
    {
     "name": "stdout",
     "output_type": "stream",
     "text": [
      "📅 Daily Schedule Saved at: c:\\Users\\SaiNitish_Mitta\\Downloads\\sahayak\\data\\lesson_plans\\daily_schedule_2025_07_25.txt\n"
     ]
    }
   ],
   "source": [
    "# Daily Schedule\n",
    "daily_output = agent.create_daily_schedule(\n",
    "    date=\"2025-07-25\",\n",
    "    subjects_today=[\"Math\", \"Social\"],\n",
    "    special_events=[\"School Assembly\"]\n",
    ")\n",
    "print(\"📅 Daily Schedule Saved at:\", daily_output['saved_path'])\n"
   ]
  }
 ],
 "metadata": {
  "kernelspec": {
   "display_name": "sahayak",
   "language": "python",
   "name": "python3"
  },
  "language_info": {
   "codemirror_mode": {
    "name": "ipython",
    "version": 3
   },
   "file_extension": ".py",
   "mimetype": "text/x-python",
   "name": "python",
   "nbconvert_exporter": "python",
   "pygments_lexer": "ipython3",
   "version": "3.11.9"
  }
 },
 "nbformat": 4,
 "nbformat_minor": 5
}
