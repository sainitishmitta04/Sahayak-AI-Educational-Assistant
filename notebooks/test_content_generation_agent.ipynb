{
 "cells": [
  {
   "cell_type": "code",
   "execution_count": 1,
   "id": "0f1aad14",
   "metadata": {},
   "outputs": [],
   "source": [
    "import sys, os\n",
    "sys.path.append(os.path.abspath(\"..\"))"
   ]
  },
  {
   "cell_type": "code",
   "execution_count": 2,
   "id": "6d725622",
   "metadata": {},
   "outputs": [],
   "source": [
    "from utils.setup_env import configure_environment\n",
    "configure_environment()\n",
    "\n",
    "from agents.content_generation_agent import ContentGenerationAgent\n",
    "from agents.content_saver import save_story_text, save_explanation_text\n",
    "\n",
    "agent = ContentGenerationAgent()"
   ]
  },
  {
   "cell_type": "code",
   "execution_count": 3,
   "id": "7b604f66",
   "metadata": {},
   "outputs": [
    {
     "name": "stdout",
     "output_type": "stream",
     "text": [
      "🎉 Story Output:\n",
      " **Title:** The Case of the Missing Mangoes\n",
      "\n",
      "**Characters:**\n",
      "*   **Asha:** A curious and observant 11-year-old girl.\n",
      "*   **Vijay:** Asha's older brother, interested in farming.\n",
      "*   **Grandpa Dada:** A wise and experienced farmer.\n",
      "\n",
      "**Story:**\n",
      "\n",
      "Asha was puzzled. \"Dada,\" she exclaimed, pointing to the mango tree, \"where are all the mangoes? The flowers were so beautiful just last month!\"\n",
      "\n",
      "Dada, sitting on his charpoy, smiled. \"Patience, Asha. Nature has its ways. Remember Vijay told you about the food chain?\"\n",
      "\n",
      "Vijay chimed in, \"The caterpillars ate the mango flowers, Asha! Then, the birds ate the caterpillars. Snakes slithered in, hunting the birds, and perhaps a mongoose got the snake!\"\n",
      "\n",
      "Asha frowned. \"So, the caterpillars are bad?\"\n",
      "\n",
      "\"Not at all!\" Dada chuckled. \"They are part of the chain. They feed the birds, and the birds are food for other animals. It's a cycle, like your grandmother's roti making. Each thing depends on the other.\" He explained that the sun's energy helped the mango tree grow, making it the base of their local food chain. He explained further, that the caterpillars were herbivores, the birds were carnivores, and snakes were top carnivores. Even decomposers like fungi helped break down dead leaves returning nutrients to the soil which then helps the mango trees grow.\n",
      "\n",
      "Asha finally understood. \"So, if we got rid of all the caterpillars, the birds wouldn't have food, and maybe the snakes would go away too!\"\n",
      "\n",
      "Dada nodded. \"Exactly! Everything is connected. We must respect all creatures, big and small, because they all play their part.\"\n",
      "\n",
      "**Learning Points:**\n",
      "\n",
      "*   A food chain shows how energy passes from one living thing to another.\n",
      "*   Plants, like the mango tree, are usually at the bottom of the food chain.\n",
      "*   Animals are either herbivores (eat plants), carnivores (eat meat), or omnivores (eat both).\n",
      "*   Removing one part of the food chain can affect everything else.\n",
      "\n",
      "**Discussion Questions:**\n",
      "\n",
      "1.  What would happen if all the snakes disappeared from Dada's farm?\n",
      "2.  Can you think of another food chain you might see in your village or town?\n",
      "✅ Story saved at: c:\\Users\\SaiNitish_Mitta\\Downloads\\sahayak\\data\\content_data\\story_food_chain.txt\n"
     ]
    }
   ],
   "source": [
    "# Generate story\n",
    "story_output = agent.create_story(\"Food Chain\", language=\"english\", grade_level=5)\n",
    "story_path = save_story_text(story_output[\"story\"], story_output[\"topic\"])\n",
    "print(\"🎉 Story Output:\\n\", story_output['story'])\n",
    "print(\"✅ Story saved at:\", story_path)\n"
   ]
  },
  {
   "cell_type": "code",
   "execution_count": 4,
   "id": "65ebc766",
   "metadata": {},
   "outputs": [
    {
     "name": "stdout",
     "output_type": "stream",
     "text": [
      "📘 Explanation Output:\n",
      " **Definition:** The water cycle is simply how water moves all around the Earth, from the sky to the land and back again. It's like a big, never-ending journey for water!\n",
      "\n",
      "**Explanation:**\n",
      "\n",
      "Imagine your mom makes chai (tea) on the stove.  She heats the water in the kettle, right? You see steam rising from the kettle.  That's *evaporation* – the water is turning into a gas (water vapor) because of the heat. The same thing happens with water on Earth. The sun heats up water in rivers, lakes, oceans, and even puddles, and it turns into water vapor and floats up into the air.\n",
      "\n",
      "Now, imagine that steam from the chai hitting a cold window. What happens?  Little droplets of water form on the glass. That's *condensation*.  As the water vapor rises into the sky, it gets colder. The water vapor turns back into tiny water droplets or ice crystals. These droplets join together to form clouds.\n",
      "\n",
      "Think of the monsoon season. The clouds get heavy with water. When the clouds get too full, the water falls back to Earth as rain! That's *precipitation*. Sometimes it snows (especially in the Himalayas) or hails too, but that's all precipitation.\n",
      "\n",
      "Finally, the rain flows into rivers, lakes, and oceans. This is called *collection* or *runoff*. And guess what?  The sun heats that water, and the whole cycle starts all over again! It's a continuous loop.  Like how the roti cycle never stops at home – making, eating, making again!\n",
      "\n",
      "*Visual Description:* Imagine a circle. At the bottom is the ocean, river, or lake. An arrow goes up from the water towards the sky (evaporation). The arrow turns into a cloud (condensation). From the cloud, raindrops are falling (precipitation). The raindrops flow back into the ocean, river, or lake (collection). The circle is complete!\n",
      "\n",
      "**Examples:**\n",
      "\n",
      "1.  **The Ganges River:** The river collects water from the Himalayas (snowmelt and rainfall), flows across India, and eventually empties into the Bay of Bengal. The water evaporates from the river and the Bay, forms clouds, and brings rain back to the land.\n",
      "2.  **A Puddle After Rain:** After it rains, you see puddles. After a few days of sun, the puddles are gone.  The water evaporated into the air.\n",
      "3.  **Dew on Grass:** Early in the morning, you see water droplets on the grass (dew). This is because the water vapor in the air condensed on the cool grass overnight.\n",
      "\n",
      "**Activity:**\n",
      "\n",
      "*   **Make a Water Cycle in a Bag:** You need a clear plastic bag, some water, blue food coloring (optional), and tape. Draw a sun, a cloud, and a river on the bag. Add a little water (with a drop of blue food coloring, if you have it) to the bag. Seal the bag tightly and tape it to a sunny window. Observe what happens over a few days. You'll see the water evaporating, condensing on the top of the bag, and then \"raining\" down!\n",
      "\n",
      "**Remember:**\n",
      "\n",
      "*   The water cycle is essential for all life on Earth.\n",
      "*   It's driven by the sun's energy.\n",
      "*   Water is constantly moving and changing states (liquid, gas, solid).\n",
      "*   Understanding the water cycle helps us appreciate how important it is to conserve water.\n",
      "✅ Explanation saved at: c:\\Users\\SaiNitish_Mitta\\Downloads\\sahayak\\data\\content_data\\explanation_water_cycle.txt\n"
     ]
    }
   ],
   "source": [
    "# Generate explanation\n",
    "exp_output = agent.create_explanation(\"Water Cycle\", language=\"english\", difficulty=\"easy\")\n",
    "exp_path = save_explanation_text(exp_output[\"explanation\"], exp_output[\"concept\"])\n",
    "print(\"📘 Explanation Output:\\n\", exp_output['explanation'])\n",
    "print(\"✅ Explanation saved at:\", exp_path)\n"
   ]
  },
  {
   "cell_type": "code",
   "execution_count": null,
   "id": "92e028d2",
   "metadata": {},
   "outputs": [],
   "source": []
  }
 ],
 "metadata": {
  "kernelspec": {
   "display_name": "sahayak",
   "language": "python",
   "name": "python3"
  },
  "language_info": {
   "codemirror_mode": {
    "name": "ipython",
    "version": 3
   },
   "file_extension": ".py",
   "mimetype": "text/x-python",
   "name": "python",
   "nbconvert_exporter": "python",
   "pygments_lexer": "ipython3",
   "version": "3.11.9"
  }
 },
 "nbformat": 4,
 "nbformat_minor": 5
}
