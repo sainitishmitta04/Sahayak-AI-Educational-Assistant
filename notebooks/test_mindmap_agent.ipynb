{
 "cells": [
  {
   "cell_type": "code",
   "execution_count": 1,
   "id": "30a32af5",
   "metadata": {},
   "outputs": [
    {
     "name": "stdout",
     "output_type": "stream",
     "text": [
      "✅ Google Gemini API configured successfully\n"
     ]
    }
   ],
   "source": [
    "import sys, os\n",
    "sys.path.append(os.path.abspath(\"..\"))\n",
    "\n",
    "from utils.setup_env import configure_environment\n",
    "configure_environment()\n"
   ]
  },
  {
   "cell_type": "code",
   "execution_count": 2,
   "id": "b5293ba4",
   "metadata": {},
   "outputs": [
    {
     "name": "stdout",
     "output_type": "stream",
     "text": [
      "✅ Mind map saved:\n",
      "🖼️ Image: c:\\Users\\SaiNitish_Mitta\\Downloads\\last\\Sahayak\\data\\mindmap_data\\mindmap_reproduction.png\n",
      "📄 Text:  c:\\Users\\SaiNitish_Mitta\\Downloads\\last\\Sahayak\\data\\mindmap_data\\mindmap_reproduction.txt\n"
     ]
    }
   ],
   "source": [
    "from agents.mindmap_agent import MindMapAgent\n",
    "from agents.visualizer import visualize_mindmap_with_networkx, save_mindmap_text\n",
    "\n",
    "topic = \"reproduction\"\n",
    "language = \"english\"\n",
    "agent = MindMapAgent()\n",
    "output = agent.create_topic_mindmap(topic,language)\n",
    "\n",
    "# Save outputs\n",
    "img_path = visualize_mindmap_with_networkx(output[\"mindmap_structure\"], topic=topic)\n",
    "txt_path = save_mindmap_text(output[\"mindmap_structure\"], topic)\n",
    "\n",
    "print(f\"✅ Mind map saved:\\n🖼️ Image: {img_path}\\n📄 Text:  {txt_path}\")"
   ]
  },
  {
   "cell_type": "code",
   "execution_count": null,
   "id": "c463223c",
   "metadata": {},
   "outputs": [],
   "source": []
  }
 ],
 "metadata": {
  "kernelspec": {
   "display_name": "end",
   "language": "python",
   "name": "python3"
  },
  "language_info": {
   "codemirror_mode": {
    "name": "ipython",
    "version": 3
   },
   "file_extension": ".py",
   "mimetype": "text/x-python",
   "name": "python",
   "nbconvert_exporter": "python",
   "pygments_lexer": "ipython3",
   "version": "3.11.9"
  }
 },
 "nbformat": 4,
 "nbformat_minor": 5
}
