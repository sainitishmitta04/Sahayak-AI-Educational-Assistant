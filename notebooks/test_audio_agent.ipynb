{
 "cells": [
  {
   "cell_type": "code",
   "execution_count": 1,
   "id": "e120412b",
   "metadata": {},
   "outputs": [],
   "source": [
    "import sys, os\n",
    "sys.path.append(os.path.abspath(\"..\"))\n",
    "\n",
    "from utils.setup_env import configure_environment\n",
    "configure_environment()"
   ]
  },
  {
   "cell_type": "code",
   "execution_count": 2,
   "id": "83d81f83",
   "metadata": {},
   "outputs": [],
   "source": [
    "# from agents.audio_agent import AudioAssessmentAgent\n",
    "\n",
    "# agent = AudioAssessmentAgent()\n",
    "\n",
    "# # 📘 Create a reading assessment\n",
    "# assessment = agent.create_reading_assessment(\n",
    "#     text=\"Water evaporates from rivers and oceans and forms clouds.\",\n",
    "#     grade_level=4,\n",
    "#     language=\"english\"\n",
    "# )\n",
    "# print(\"✅ Reading Assessment saved at:\", assessment['saved_path'])\n",
    "\n",
    "# # 🔊 Generate a pronunciation guide\n",
    "# guide = agent.generate_pronunciation_guide(\n",
    "#     words=[\"evaporation\", \"condensation\", \"precipitation\"],\n",
    "#     language=\"english\"\n",
    "# )\n",
    "# print(\"🔤 Pronunciation Guide saved at:\", guide['saved_path'])\n"
   ]
  },
  {
   "cell_type": "code",
   "execution_count": null,
   "id": "5005b599",
   "metadata": {},
   "outputs": [],
   "source": []
  }
 ],
 "metadata": {
  "kernelspec": {
   "display_name": "sahayak",
   "language": "python",
   "name": "python3"
  },
  "language_info": {
   "codemirror_mode": {
    "name": "ipython",
    "version": 3
   },
   "file_extension": ".py",
   "mimetype": "text/x-python",
   "name": "python",
   "nbconvert_exporter": "python",
   "pygments_lexer": "ipython3",
   "version": "3.11.9"
  }
 },
 "nbformat": 4,
 "nbformat_minor": 5
}
