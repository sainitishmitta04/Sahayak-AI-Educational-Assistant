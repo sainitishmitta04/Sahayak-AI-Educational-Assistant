{
 "cells": [
  {
   "cell_type": "code",
   "execution_count": null,
   "id": "794aceb8",
   "metadata": {},
   "outputs": [],
   "source": [
    "import sys, os\n",
    "sys.path.append(os.path.abspath(\"..\"))\n",
    "\n",
    "from utils.setup_env import configure_environment\n",
    "configure_environment()"
   ]
  },
  {
   "cell_type": "code",
   "execution_count": null,
   "id": "101fa285",
   "metadata": {},
   "outputs": [],
   "source": [
    "from agents.vision_agent import GeminiVisionAgent\n",
    "\n",
    "agent = GeminiVisionAgent()\n",
    "\n",
    "# 🔍 Step 1: Extract from image\n",
    "image_path = \"../data/images/biology_textbook.png\""
   ]
  },
  {
   "cell_type": "code",
   "execution_count": null,
   "id": "c886f2f8",
   "metadata": {},
   "outputs": [],
   "source": [
    "# 🔍 Step 2: Extract Textbook Content\n",
    "extracted = agent.extract_text_from_textbook(image_path)\n",
    "print(\"📖 Extracted Content:\\n\")\n",
    "print(extracted['extracted_content'])"
   ]
  },
  {
   "cell_type": "code",
   "execution_count": null,
   "id": "7991665d",
   "metadata": {},
   "outputs": [],
   "source": [
    "# 🧠 Step 3: Generate Worksheets for Grades\n",
    "target_grades = [9,10]\n",
    "generated = agent.generate_differentiated_worksheets(extracted['extracted_content'], target_grades)\n",
    "\n",
    "# 📂 Step 4: Show Worksheet Outputs\n",
    "for grade in target_grades:\n",
    "    print(f\"\\n📘 Worksheet for Grade {grade}:\\n\")\n",
    "    print(generated['worksheets'][f\"grade_{grade}\"])"
   ]
  }
 ],
 "metadata": {
  "kernelspec": {
   "display_name": "sahayak",
   "language": "python",
   "name": "python3"
  },
  "language_info": {
   "codemirror_mode": {
    "name": "ipython",
    "version": 3
   },
   "file_extension": ".py",
   "mimetype": "text/x-python",
   "name": "python",
   "nbconvert_exporter": "python",
   "pygments_lexer": "ipython3",
   "version": "3.11.9"
  }
 },
 "nbformat": 4,
 "nbformat_minor": 5
}
